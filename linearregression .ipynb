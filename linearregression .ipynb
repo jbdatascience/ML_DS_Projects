{
 "cells": [
  {
   "cell_type": "code",
   "execution_count": 24,
   "metadata": {},
   "outputs": [],
   "source": [
    "# important modules\n",
    "import pandas as pd \n",
    "import numpy as np\n",
    "from sklearn.linear_model import LinearRegression\n",
    "from sklearn.metrics import r2_score\n",
    "import matplotlib.pyplot as plt"
   ]
  },
  {
   "cell_type": "markdown",
   "metadata": {},
   "source": [
    "\n",
    "Link for the dataset= https://www.kaggle.com/andonians/random-linear-regression/data"
   ]
  },
  {
   "cell_type": "code",
   "execution_count": 2,
   "metadata": {},
   "outputs": [],
   "source": [
    "# read the csv files \n",
    "df_train= pd.read_csv(r'C:\\Users\\prajw\\ML\\Untitled Folder\\train.csv')\n",
    "df_test=pd.read_csv(r'C:\\Users\\prajw\\ML\\Untitled Folder\\test.csv')"
   ]
  },
  {
   "cell_type": "code",
   "execution_count": 14,
   "metadata": {},
   "outputs": [],
   "source": [
    "# checking for null value\n",
    "df_train.isnull().sum()\n",
    "df_train = df_train.fillna(0)"
   ]
  },
  {
   "cell_type": "code",
   "execution_count": 15,
   "metadata": {},
   "outputs": [
    {
     "data": {
      "text/plain": [
       "x    0\n",
       "y    0\n",
       "dtype: int64"
      ]
     },
     "execution_count": 15,
     "metadata": {},
     "output_type": "execute_result"
    }
   ],
   "source": [
    "df_train.isnull().sum()"
   ]
  },
  {
   "cell_type": "code",
   "execution_count": 16,
   "metadata": {},
   "outputs": [
    {
     "data": {
      "text/plain": [
       "0"
      ]
     },
     "execution_count": 16,
     "metadata": {},
     "output_type": "execute_result"
    }
   ],
   "source": [
    "df_test.isnull().any().sum()"
   ]
  },
  {
   "cell_type": "code",
   "execution_count": 17,
   "metadata": {},
   "outputs": [],
   "source": [
    "# extract one columns\n",
    "x_train = df_train['x']\n",
    "y_train=df_train['y']\n",
    "x_test=df_test['x']\n",
    "y_test= df_test['y']"
   ]
  },
  {
   "cell_type": "code",
   "execution_count": 18,
   "metadata": {},
   "outputs": [],
   "source": [
    "# # converting into array \n",
    "x_train=np.array(x_train)\n",
    "x_train=x_train.astype(np.float64)\n",
    "y_train=np.array(y_train)\n",
    "y_train=y_train.astype(np.float64)\n",
    "x_test=np.array(x_test)\n",
    "x_test=x_test.astype(np.float64)\n",
    "y_test=np.array(y_test)\n",
    "y_test=y_test.astype(np.float64)"
   ]
  },
  {
   "cell_type": "code",
   "execution_count": 19,
   "metadata": {},
   "outputs": [],
   "source": [
    "# reshapping the array\n",
    "# -1 is passed as a parameter when we dont know the value of the row or column\n",
    "x_train=x_train.reshape(-1,1)\n",
    "y_train=y_train.reshape(-1,1)\n",
    "x_test=x_test.reshape(-1,1)\n",
    "y_test=y_test.reshape(-1,1)"
   ]
  },
  {
   "cell_type": "code",
   "execution_count": 20,
   "metadata": {},
   "outputs": [
    {
     "name": "stdout",
     "output_type": "stream",
     "text": [
      "0.05980074855239992\n"
     ]
    }
   ],
   "source": [
    "lr = LinearRegression(normalize=True)\n",
    "lr.fit(x_train,y_train)\n",
    "y_predict=lr.predict(x_test)\n",
    "print(r2_score(y_test,y_predict))"
   ]
  },
  {
   "cell_type": "markdown",
   "metadata": {},
   "source": [
    "# Without Built-Library"
   ]
  },
  {
   "cell_type": "code",
   "execution_count": 22,
   "metadata": {},
   "outputs": [
    {
     "name": "stdout",
     "output_type": "stream",
     "text": [
      "-41.258696853039886\n",
      "-41.19021061819795\n",
      "-41.18289920397331\n",
      "-41.17584036296704\n",
      "-41.16878376436342\n",
      "-41.16172837934219\n",
      "-41.154674203469526\n",
      "-41.14762123652084\n",
      "-41.14056947828887\n",
      "-41.133518928566474\n",
      "-41.12646958714654\n",
      "-41.119421453821985\n",
      "-41.11237452838578\n",
      "-41.10532881063092\n",
      "-41.098284300350436\n",
      "-41.09124099733739\n",
      "-41.08419890138489\n",
      "-41.07715801228606\n",
      "-41.07011832983409\n",
      "-41.06307985382218\n",
      "-41.056042584043574\n",
      "-41.04900652029154\n",
      "-41.04197166235943\n",
      "-41.034938010040555\n",
      "-41.02790556312832\n",
      "-41.02087432141613\n",
      "-41.013844284697456\n",
      "-41.0068154527658\n",
      "-40.99978782541466\n",
      "-40.992761402437615\n",
      "-40.98573618362827\n",
      "-40.97871216878024\n",
      "-40.971689357687204\n",
      "-40.964667750142866\n",
      "-40.95764734594096\n",
      "-40.95062814487528\n",
      "-40.943610146739616\n",
      "-40.936593351327815\n",
      "-40.929577758433766\n",
      "-40.922563367851374\n",
      "-40.9155501793746\n",
      "-40.90853819279744\n",
      "-40.90152740791388\n",
      "-40.89451782451801\n",
      "-40.88750944240392\n",
      "-40.880502261365734\n",
      "-40.8734962811976\n",
      "-40.86649150169374\n",
      "-40.85948792264837\n",
      "-40.85248554385576\n",
      "-40.84548436511023\n",
      "-40.83848438620611\n",
      "-40.83148560693777\n",
      "-40.82448802709962\n",
      "-40.81749164648612\n",
      "-40.81049646489173\n",
      "-40.80350248211098\n",
      "-40.796509697938404\n",
      "-40.78951811216862\n",
      "-40.782527724596214\n",
      "-40.77553853501586\n",
      "-40.76855054322226\n",
      "-40.761563749010115\n",
      "-40.754578152174204\n",
      "-40.74759375250932\n",
      "-40.7406105498103\n",
      "-40.733628543872\n",
      "-40.72664773448934\n",
      "-40.71966812145723\n",
      "-40.71268970457068\n",
      "-40.705712483624666\n",
      "-40.69873645841425\n",
      "-40.691761628734504\n",
      "-40.68478799438054\n",
      "-40.67781555514751\n",
      "-40.6708443108306\n",
      "-40.663874261225025\n",
      "-40.65690540612603\n",
      "-40.64993774532892\n",
      "-40.642971278629005\n",
      "-40.636006005821656\n",
      "-40.629041926702264\n",
      "-40.62207904106625\n",
      "-40.61511734870909\n",
      "-40.60815684942629\n",
      "-40.60119754301335\n",
      "-40.59423942926587\n",
      "-40.58728250797945\n",
      "-40.580326778949726\n",
      "-40.57337224197237\n",
      "-40.566418896843096\n",
      "-40.55946674335765\n",
      "-40.55251578131181\n",
      "-40.54556601050138\n",
      "-40.538617430722226\n",
      "-40.53167004177023\n",
      "-40.52472384344129\n",
      "-40.51777883553139\n",
      "-40.5108350178365\n",
      "-40.503892390152664\n"
     ]
    }
   ],
   "source": [
    "n = 700\n",
    "alpha=0.00001\n",
    "a_0=np.zeros((n,1))\n",
    "a_1=np.zeros((n,1))\n",
    "epochs=0\n",
    "while(epochs<1000):\n",
    "    y=a_0+a_1*x_train\n",
    "    error=y-y_train\n",
    "    mean_sq_error=np.sum(error)\n",
    "    mean_sq_error=mean_sq_error/n\n",
    "    a_0 = a_0 - alpha * 2 * np.sum(error)/n \n",
    "    a_1 = a_1 - alpha * 2 * np.sum(error * x_train)/n\n",
    "    epochs += 1\n",
    "    if(epochs%10 == 0):\n",
    "        print(mean_sq_error)"
   ]
  },
  {
   "cell_type": "code",
   "execution_count": null,
   "metadata": {},
   "outputs": [],
   "source": [
    "y_prediction=a_0 +x_test.dot(a_1)\n",
    "print('R2 Score:',r2_score(y_test,y_prediction))\n",
    "y_plot=[]\n",
    "for i in range(100):\n",
    "    y_plot.append(a_0+a_1*i)\n",
    "plt.figure(figsize=(10,10))\n",
    "plt.scatter(x_test,y_test,color='red',label='GT')\n",
    "plt.plot(range(len(y_plot)),y_plot,color='black',label = 'pred')\n",
    "plt.legend()\n",
    "plt.show()"
   ]
  },
  {
   "cell_type": "code",
   "execution_count": null,
   "metadata": {},
   "outputs": [],
   "source": []
  }
 ],
 "metadata": {
  "kernelspec": {
   "display_name": "Python 3",
   "language": "python",
   "name": "python3"
  },
  "language_info": {
   "codemirror_mode": {
    "name": "ipython",
    "version": 3
   },
   "file_extension": ".py",
   "mimetype": "text/x-python",
   "name": "python",
   "nbconvert_exporter": "python",
   "pygments_lexer": "ipython3",
   "version": "3.7.4"
  }
 },
 "nbformat": 4,
 "nbformat_minor": 2
}
